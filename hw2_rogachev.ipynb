{
 "cells": [
  {
   "cell_type": "markdown",
   "metadata": {},
   "source": [
    "# Алгоритмы интеллектуальной обработки больших объемов данных\n",
    "## Домашнее задание №2 - Алгоритмы кластеризации\n"
   ]
  },
  {
   "cell_type": "markdown",
   "metadata": {},
   "source": [
    "###### <hr\\>\n",
    "**Общая информация**\n",
    "\n",
    "**Срок сдачи:** 17 марта 2017, 06:00 <br\\>\n",
    "**Штраф за опоздание:** -2 балла после 06:00 13 марта, -4 балла после 06:00 20 марта, -6 баллов после 06:00 27 марта\n",
    "\n",
    "Отправлять дз не нужно, нужно закоммитить в github. Сдается дз лично преподавателю на рубежном контроле (17 марта)\n",
    "\n",
    "Используйте данный Ipython Notebook при оформлении домашнего задания.\n",
    "<hr\\>"
   ]
  },
  {
   "cell_type": "markdown",
   "metadata": {},
   "source": [
    "Основная задача этого задания - реализация одного из алгоритмов кластеризации. Кроме того, мы научимся подбирать параметры алгоритма, визуализируем результат кластеризации и попытаемся проанализировать природу полученных кластеров."
   ]
  },
  {
   "cell_type": "code",
   "execution_count": 137,
   "metadata": {
    "collapsed": false
   },
   "outputs": [
    {
     "name": "stdout",
     "output_type": "stream",
     "text": [
      "Populating the interactive namespace from numpy and matplotlib\n"
     ]
    }
   ],
   "source": [
    "import pandas as pd\n",
    "import pylab as pl\n",
    "import numpy as np\n",
    "import scipy\n",
    "#from functools32 import lru_cache\n",
    "import scipy.spatial as ss\n",
    "import sklearn.cluster as sc\n",
    "import sklearn.manifold as sm\n",
    "import sklearn.datasets as ds\n",
    "import sklearn.metrics as smt\n",
    "\n",
    "import matplotlib.pyplot as plt\n",
    "import mpl_toolkits.basemap as bm\n",
    "\n",
    "from line_profiler import LineProfiler\n",
    "\n",
    "%matplotlib inline\n",
    "\n",
    "plt.style.use('ggplot')\n",
    "plt.rcParams['figure.figsize'] = (12,5)\n",
    "\n",
    "# Plotting config\n",
    "%pylab inline"
   ]
  },
  {
   "cell_type": "markdown",
   "metadata": {},
   "source": [
    "## Реализация алгоритма"
   ]
  },
  {
   "cell_type": "markdown",
   "metadata": {},
   "source": [
    "Cчитываем данные, полученные в результате выполнения домашнего задания из курса введения, в `data frame` библиотеки `pandas`. Достаем координаты и конвертируем в массив `numpy`. Возможно, в собранном вами файле кодировка будет иной."
   ]
  },
  {
   "cell_type": "code",
   "execution_count": 138,
   "metadata": {
    "collapsed": false
   },
   "outputs": [
    {
     "data": {
      "text/html": [
       "<div>\n",
       "<table border=\"1\" class=\"dataframe\">\n",
       "  <thead>\n",
       "    <tr style=\"text-align: right;\">\n",
       "      <th></th>\n",
       "      <th>address</th>\n",
       "      <th>checkins</th>\n",
       "      <th>city</th>\n",
       "      <th>country</th>\n",
       "      <th>created</th>\n",
       "      <th>icon</th>\n",
       "      <th>latitude</th>\n",
       "      <th>longitude</th>\n",
       "      <th>pid</th>\n",
       "      <th>title</th>\n",
       "      <th>type</th>\n",
       "      <th>updated</th>\n",
       "    </tr>\n",
       "  </thead>\n",
       "  <tbody>\n",
       "    <tr>\n",
       "      <th>0</th>\n",
       "      <td>Мячковский б-р 3а</td>\n",
       "      <td>435</td>\n",
       "      <td>1</td>\n",
       "      <td>1</td>\n",
       "      <td>1280741941</td>\n",
       "      <td>https://vk.com/images/places/clubs.png</td>\n",
       "      <td>55.657941</td>\n",
       "      <td>37.751574</td>\n",
       "      <td>1</td>\n",
       "      <td>Baila Baila</td>\n",
       "      <td>4</td>\n",
       "      <td>1.487519e+09</td>\n",
       "    </tr>\n",
       "    <tr>\n",
       "      <th>0</th>\n",
       "      <td>Дачная 2а</td>\n",
       "      <td>14</td>\n",
       "      <td>123</td>\n",
       "      <td>1</td>\n",
       "      <td>1280741941</td>\n",
       "      <td>https://vk.com/images/places/clubs.png</td>\n",
       "      <td>53.202017</td>\n",
       "      <td>50.141377</td>\n",
       "      <td>2</td>\n",
       "      <td>Lust</td>\n",
       "      <td>4</td>\n",
       "      <td>1.483478e+09</td>\n",
       "    </tr>\n",
       "    <tr>\n",
       "      <th>0</th>\n",
       "      <td>Лени Голикова 29</td>\n",
       "      <td>8</td>\n",
       "      <td>2</td>\n",
       "      <td>1</td>\n",
       "      <td>1280741941</td>\n",
       "      <td>https://vk.com/images/places/clubs.png</td>\n",
       "      <td>59.843376</td>\n",
       "      <td>30.231480</td>\n",
       "      <td>3</td>\n",
       "      <td>Тайфун</td>\n",
       "      <td>4</td>\n",
       "      <td>1.486398e+09</td>\n",
       "    </tr>\n",
       "    <tr>\n",
       "      <th>0</th>\n",
       "      <td>Героев Танкограда 63</td>\n",
       "      <td>8</td>\n",
       "      <td>158</td>\n",
       "      <td>1</td>\n",
       "      <td>1280741941</td>\n",
       "      <td>https://vk.com/images/places/clubs.png</td>\n",
       "      <td>55.174954</td>\n",
       "      <td>61.451611</td>\n",
       "      <td>4</td>\n",
       "      <td>Hollywood</td>\n",
       "      <td>4</td>\n",
       "      <td>1.470157e+09</td>\n",
       "    </tr>\n",
       "    <tr>\n",
       "      <th>0</th>\n",
       "      <td>Мусы Джалиля 14К1</td>\n",
       "      <td>36</td>\n",
       "      <td>99</td>\n",
       "      <td>1</td>\n",
       "      <td>1280741941</td>\n",
       "      <td>https://vk.com/images/places/clubs.png</td>\n",
       "      <td>54.860834</td>\n",
       "      <td>83.091932</td>\n",
       "      <td>5</td>\n",
       "      <td>Барабас</td>\n",
       "      <td>4</td>\n",
       "      <td>1.485073e+09</td>\n",
       "    </tr>\n",
       "  </tbody>\n",
       "</table>\n",
       "</div>"
      ],
      "text/plain": [
       "                address  checkins  city  country     created  \\\n",
       "0     Мячковский б-р 3а       435     1        1  1280741941   \n",
       "0             Дачная 2а        14   123        1  1280741941   \n",
       "0      Лени Голикова 29         8     2        1  1280741941   \n",
       "0  Героев Танкограда 63         8   158        1  1280741941   \n",
       "0     Мусы Джалиля 14К1        36    99        1  1280741941   \n",
       "\n",
       "                                     icon   latitude  longitude  pid  \\\n",
       "0  https://vk.com/images/places/clubs.png  55.657941  37.751574    1   \n",
       "0  https://vk.com/images/places/clubs.png  53.202017  50.141377    2   \n",
       "0  https://vk.com/images/places/clubs.png  59.843376  30.231480    3   \n",
       "0  https://vk.com/images/places/clubs.png  55.174954  61.451611    4   \n",
       "0  https://vk.com/images/places/clubs.png  54.860834  83.091932    5   \n",
       "\n",
       "         title  type       updated  \n",
       "0  Baila Baila     4  1.487519e+09  \n",
       "0         Lust     4  1.483478e+09  \n",
       "0       Тайфун     4  1.486398e+09  \n",
       "0    Hollywood     4  1.470157e+09  \n",
       "0      Барабас     4  1.485073e+09  "
      ]
     },
     "execution_count": 138,
     "metadata": {},
     "output_type": "execute_result"
    }
   ],
   "source": [
    "data = pd.read_pickle('hw1_rogachev.pkl')\n",
    "data.head()"
   ]
  },
  {
   "cell_type": "code",
   "execution_count": 139,
   "metadata": {
    "collapsed": false
   },
   "outputs": [
    {
     "data": {
      "text/html": [
       "<div>\n",
       "<table border=\"1\" class=\"dataframe\">\n",
       "  <thead>\n",
       "    <tr style=\"text-align: right;\">\n",
       "      <th></th>\n",
       "      <th>checkins</th>\n",
       "      <th>city</th>\n",
       "      <th>country</th>\n",
       "      <th>created</th>\n",
       "      <th>latitude</th>\n",
       "      <th>longitude</th>\n",
       "      <th>pid</th>\n",
       "      <th>type</th>\n",
       "      <th>updated</th>\n",
       "    </tr>\n",
       "  </thead>\n",
       "  <tbody>\n",
       "    <tr>\n",
       "      <th>count</th>\n",
       "      <td>4999.000000</td>\n",
       "      <td>4.999000e+03</td>\n",
       "      <td>4999.0</td>\n",
       "      <td>4.999000e+03</td>\n",
       "      <td>4999.000000</td>\n",
       "      <td>4999.000000</td>\n",
       "      <td>4999.000000</td>\n",
       "      <td>4999.000000</td>\n",
       "      <td>4.593000e+03</td>\n",
       "    </tr>\n",
       "    <tr>\n",
       "      <th>mean</th>\n",
       "      <td>16.638728</td>\n",
       "      <td>1.095828e+03</td>\n",
       "      <td>1.0</td>\n",
       "      <td>1.280742e+09</td>\n",
       "      <td>56.068935</td>\n",
       "      <td>41.848142</td>\n",
       "      <td>2500.000000</td>\n",
       "      <td>3.259252</td>\n",
       "      <td>1.417809e+09</td>\n",
       "    </tr>\n",
       "    <tr>\n",
       "      <th>std</th>\n",
       "      <td>61.838178</td>\n",
       "      <td>3.210196e+04</td>\n",
       "      <td>0.0</td>\n",
       "      <td>5.130908e+01</td>\n",
       "      <td>3.986579</td>\n",
       "      <td>14.243481</td>\n",
       "      <td>1443.231328</td>\n",
       "      <td>0.438268</td>\n",
       "      <td>5.705482e+07</td>\n",
       "    </tr>\n",
       "    <tr>\n",
       "      <th>min</th>\n",
       "      <td>0.000000</td>\n",
       "      <td>1.000000e+00</td>\n",
       "      <td>1.0</td>\n",
       "      <td>1.280742e+09</td>\n",
       "      <td>28.378570</td>\n",
       "      <td>1.694097</td>\n",
       "      <td>1.000000</td>\n",
       "      <td>3.000000</td>\n",
       "      <td>1.280897e+09</td>\n",
       "    </tr>\n",
       "    <tr>\n",
       "      <th>25%</th>\n",
       "      <td>1.000000</td>\n",
       "      <td>1.000000e+00</td>\n",
       "      <td>1.0</td>\n",
       "      <td>1.280742e+09</td>\n",
       "      <td>55.640528</td>\n",
       "      <td>30.451619</td>\n",
       "      <td>1250.500000</td>\n",
       "      <td>3.000000</td>\n",
       "      <td>1.355684e+09</td>\n",
       "    </tr>\n",
       "    <tr>\n",
       "      <th>50%</th>\n",
       "      <td>3.000000</td>\n",
       "      <td>2.000000e+00</td>\n",
       "      <td>1.0</td>\n",
       "      <td>1.280742e+09</td>\n",
       "      <td>55.778542</td>\n",
       "      <td>37.624494</td>\n",
       "      <td>2500.000000</td>\n",
       "      <td>3.000000</td>\n",
       "      <td>1.425374e+09</td>\n",
       "    </tr>\n",
       "    <tr>\n",
       "      <th>75%</th>\n",
       "      <td>11.000000</td>\n",
       "      <td>9.500000e+01</td>\n",
       "      <td>1.0</td>\n",
       "      <td>1.280742e+09</td>\n",
       "      <td>59.858188</td>\n",
       "      <td>43.925272</td>\n",
       "      <td>3749.500000</td>\n",
       "      <td>4.000000</td>\n",
       "      <td>1.474565e+09</td>\n",
       "    </tr>\n",
       "    <tr>\n",
       "      <th>max</th>\n",
       "      <td>2299.000000</td>\n",
       "      <td>1.015381e+06</td>\n",
       "      <td>1.0</td>\n",
       "      <td>1.280742e+09</td>\n",
       "      <td>69.066435</td>\n",
       "      <td>131.922657</td>\n",
       "      <td>4999.000000</td>\n",
       "      <td>4.000000</td>\n",
       "      <td>1.488145e+09</td>\n",
       "    </tr>\n",
       "  </tbody>\n",
       "</table>\n",
       "</div>"
      ],
      "text/plain": [
       "          checkins          city  country       created     latitude  \\\n",
       "count  4999.000000  4.999000e+03   4999.0  4.999000e+03  4999.000000   \n",
       "mean     16.638728  1.095828e+03      1.0  1.280742e+09    56.068935   \n",
       "std      61.838178  3.210196e+04      0.0  5.130908e+01     3.986579   \n",
       "min       0.000000  1.000000e+00      1.0  1.280742e+09    28.378570   \n",
       "25%       1.000000  1.000000e+00      1.0  1.280742e+09    55.640528   \n",
       "50%       3.000000  2.000000e+00      1.0  1.280742e+09    55.778542   \n",
       "75%      11.000000  9.500000e+01      1.0  1.280742e+09    59.858188   \n",
       "max    2299.000000  1.015381e+06      1.0  1.280742e+09    69.066435   \n",
       "\n",
       "         longitude          pid         type       updated  \n",
       "count  4999.000000  4999.000000  4999.000000  4.593000e+03  \n",
       "mean     41.848142  2500.000000     3.259252  1.417809e+09  \n",
       "std      14.243481  1443.231328     0.438268  5.705482e+07  \n",
       "min       1.694097     1.000000     3.000000  1.280897e+09  \n",
       "25%      30.451619  1250.500000     3.000000  1.355684e+09  \n",
       "50%      37.624494  2500.000000     3.000000  1.425374e+09  \n",
       "75%      43.925272  3749.500000     4.000000  1.474565e+09  \n",
       "max     131.922657  4999.000000     4.000000  1.488145e+09  "
      ]
     },
     "execution_count": 139,
     "metadata": {},
     "output_type": "execute_result"
    }
   ],
   "source": [
    "data.describe()"
   ]
  },
  {
   "cell_type": "code",
   "execution_count": 140,
   "metadata": {
    "collapsed": false
   },
   "outputs": [
    {
     "name": "stdout",
     "output_type": "stream",
     "text": [
      "[[ 55.657941  37.751574]\n",
      " [ 53.202017  50.141377]\n",
      " [ 59.843376  30.23148 ]\n",
      " ..., \n",
      " [ 59.974518  30.303382]\n",
      " [ 55.76363   37.597046]\n",
      " [ 56.002732  37.209755]]\n"
     ]
    }
   ],
   "source": [
    "x = data[['latitude', 'longitude']].values\n",
    "print x"
   ]
  },
  {
   "cell_type": "code",
   "execution_count": 36,
   "metadata": {
    "collapsed": false
   },
   "outputs": [],
   "source": [
    "mini_set = x[:15]"
   ]
  },
  {
   "cell_type": "markdown",
   "metadata": {},
   "source": [
    "Алгоритм кластеризации, который необходимо реализовать, выбирается на основании Вашего порядкового номера в списке группы."
   ]
  },
  {
   "cell_type": "markdown",
   "metadata": {},
   "source": [
    "1 Баранчиков Максим\t\n",
    "2 Бекбулатов Рамзан\t\n",
    "3 Белозёров Михаил\t\n",
    "4 Бобылев Владислав\t\n",
    "5 Брызгалов Антон\t\n",
    "6 Будюк Алексей\t\n",
    "7 Валиуллин Альберт\t\n",
    "8 Валиуллин Артур\t\n",
    "9 Васильев Евгений\t\n",
    "10 Галицкий Игорь\t\n",
    "11 Горшков Сергей\t\n",
    "12 Гусев Вячеслав\t\n",
    "13 Дегтярев Роман\t\n",
    "14 Дементьев Максим\t\n",
    "15 Елохов Артур\t\n",
    "16 Ефимов Владислав\t\n",
    "17 Зайцев Александр\t\n",
    "18 Ильин Иван\t\n",
    "19 Имеев Мерген\t\n",
    "20 Камалбеков Тимур\t\n",
    "21 Капитонов Александр\t\n",
    "22 Каспарьянц Георгий\t\n",
    "23 Кафанов Олег\t\n",
    "24 Клейменов Андрей\t\n",
    "25 Козлов Иван\t\n",
    "26 Колмакова Татьяна\t\n",
    "27 Комов Евгений\t\n",
    "28 Крылов Иван\t\n",
    "29 Кузьмина Ирина\t\n",
    "30 Куклева Анна\t\n",
    "31 Курьянов Илья\t\n",
    "32 Лобанов Алексей\t\n",
    "33 Лозинский Иван\t\n",
    "34 Лузин Игорь\t\n",
    "35 Лукьянчиков Иван\t\n",
    "36 Неред Максим\t\n",
    "37 Новикова Анастасия\t\n",
    "38 Новичков Сергей\t\n",
    "39 Омаров Темирхан\t\n",
    "40 Павлова Анастасия\t\n",
    "41 Петренко Иван\t\n",
    "42 Пилюгин Вадим\t\n",
    "43 Плошкин Александр\t\n",
    "44 Полякова Вера\t\n",
    "45 Попкова Екатерина\t\n",
    "46 Преображенский Анатолий\t\n",
    "47 Пронин Сергей\t\n",
    "48 Пучкин Данила\t\n",
    "49 Рогачев Александр\t\n",
    "50 Руденко Дмитрий\t\n",
    "51 Рыбаков Владислав\t\n",
    "52 Санников Артём\t\n",
    "53 Скиба Глеб\t\n",
    "54 Страдомский Сергей\t\n",
    "55 Тескер Константин\t\n",
    "56 Трифанов Петр\t\n",
    "57 Хапкин Артем\t\n",
    "58 Хорошенький Илья\t\n",
    "59 Чокля Дмитрий\t\n",
    "60 Шмурак Денис\t\n",
    "61 Щербакова Елена\t"
   ]
  },
  {
   "cell_type": "code",
   "execution_count": 37,
   "metadata": {
    "collapsed": true
   },
   "outputs": [],
   "source": [
    "N = 49# put your index here"
   ]
  },
  {
   "cell_type": "code",
   "execution_count": 38,
   "metadata": {
    "collapsed": false
   },
   "outputs": [
    {
     "name": "stdout",
     "output_type": "stream",
     "text": [
      "Реализуем алгоритм кластеризации 'Hierarchical clustering с поддержкой single-linkage, complete-linkage, average-linkage (параметры - k, linkage)'\n"
     ]
    }
   ],
   "source": [
    "algorithms = [\n",
    "    u\"Gaussian Mixture Model с использованием maximum a-posteriori для выбора кластера (параметр - k)\",\n",
    "    u\"Hierarchical clustering с поддержкой single-linkage, complete-linkage, average-linkage (параметры - k, linkage)\",\n",
    "    u\"DBSCAN. (параметры - epsilon, min_pts)\", \n",
    "    u\"OPTICS. (параметры - epsilon, min_pts)\"\n",
    "]\n",
    "\n",
    "my_algorithm = algorithms[N % len(algorithms)]\n",
    "print u\"Реализуем алгоритм кластеризации '%s'\" % my_algorithm"
   ]
  },
  {
   "cell_type": "markdown",
   "metadata": {},
   "source": [
    "Алгоритм кластеризации должен удовлетворять следующему интерфейсу. Конструктор принимает набор параметров, необходимых для работы алгоритма кластеризации. Метод `fit` подсчитывает параметры модели и возвращает `self`. Метод `predict` возвращает вектор с индексами кластеров для поданных в него объектов `x`"
   ]
  },
  {
   "cell_type": "code",
   "execution_count": 78,
   "metadata": {
    "collapsed": false
   },
   "outputs": [],
   "source": [
    "x = np.array([0,1,2,5,3,6,1,7])\n"
   ]
  },
  {
   "cell_type": "code",
   "execution_count": 61,
   "metadata": {
    "collapsed": false
   },
   "outputs": [
    {
     "name": "stdout",
     "output_type": "stream",
     "text": [
      "[0 5 6 7]\n"
     ]
    }
   ],
   "source": [
    "x = x[x!=3]\n",
    "print x"
   ]
  },
  {
   "cell_type": "code",
   "execution_count": null,
   "metadata": {
    "collapsed": true
   },
   "outputs": [],
   "source": []
  },
  {
   "cell_type": "code",
   "execution_count": 41,
   "metadata": {
    "collapsed": false
   },
   "outputs": [
    {
     "data": {
      "text/plain": [
       "array([2, 5, 3, 6, 1, 7])"
      ]
     },
     "execution_count": 41,
     "metadata": {},
     "output_type": "execute_result"
    }
   ],
   "source": [
    "np.delete(x,x==1)"
   ]
  },
  {
   "cell_type": "code",
   "execution_count": 79,
   "metadata": {
    "collapsed": false
   },
   "outputs": [
    {
     "name": "stdout",
     "output_type": "stream",
     "text": [
      "0\n",
      "1\n",
      "2\n",
      "5\n",
      "3\n",
      "6\n",
      "1\n"
     ]
    }
   ],
   "source": [
    "x = x[x!=7] \n",
    "for i in x:\n",
    "    print i\n",
    "   "
   ]
  },
  {
   "cell_type": "code",
   "execution_count": 142,
   "metadata": {
    "collapsed": false
   },
   "outputs": [],
   "source": [
    "from sklearn.base import BaseEstimator, ClusterMixin\n",
    "\n",
    "class Clustering(BaseEstimator, ClusterMixin):\n",
    "    \"\"\"\n",
    "    Implementation of hierarchical clustering с поддержкой single-linkage, complete-linkage, average-linkage \n",
    "    (параметры - k, linkage)\n",
    "    \"\"\"\n",
    "    \n",
    "    def __init__(self, **kwargs):\n",
    "        \"\"\"\n",
    "        Инициализация метода\n",
    "        :k - количество кластеров (по умолчанию 3 кластерa)\n",
    "        :linkage - выбор метрики между кластерами\n",
    "        поддерживается выбор single, complete, average (по умолчанию single)\n",
    "        \"\"\"\n",
    "        self.k = kwargs.get('k',3)\n",
    "        self.linkage = kwargs.get('linkage','single')\n",
    "        return\n",
    "    \n",
    "    def fit(self, x, y=None):\n",
    "        \"\"\"\n",
    "        Use data matrix x to compute model parameters\n",
    "        \"\"\"\n",
    "        self.x_len = len(x)  #иниц-ровали кол-во кластеров - переменная имеет смысл текущего количества кластеров\n",
    "        self.labels = np.linspace(0, self.x_len - 1, num = self.x_len, dtype = int) #сказали, что каждый объект это уник. кластер\n",
    "        valid_labels = np.linspace(0, self.x_len - 1, num = self.x_len, dtype = int) #O(n) дополнительной памяти\n",
    "        if self.linkage == 'single':  #выбрали нужную метрику. по умолчанию должен быть сингл линкэйдж\n",
    "            metric = self._single\n",
    "            print 'single-linkage'\n",
    "        if self.linkage == 'average':\n",
    "            metric = self._average \n",
    "            print 'average-linkage'\n",
    "        if self.linkage == 'complete':\n",
    "            metric = self._complete  \n",
    "            print 'complete-linkage'\n",
    "        \n",
    "        #pair_dist = np.zeros((self.x_len, self.x_len))\n",
    "        while self.x_len > self.k:\n",
    "            iter = 0\n",
    "            C_a = -1\n",
    "            C_b = -2\n",
    "            min_dist = float('inf')  #distance between closest\n",
    "            for i in valid_labels[:]:\n",
    "                a = x[(self.labels == i)]\n",
    "                iter = iter + 1\n",
    "                if iter % 1000 == 0:\n",
    "                    print i,\n",
    "                \n",
    "                for j in valid_labels[iter:]:#xrange(i+1, self.x_len):\n",
    "                    b = x[(self.labels == j)]\n",
    "                    dist = metric(a, b) # metric dist. betw. clusters\n",
    "                    if dist < min_dist:\n",
    "                        min_dist = dist\n",
    "                        C_a = i     #запомнили номера кластеров, у которых минимальное расстояние\n",
    "                        C_b = j\n",
    "            mask_merge = (self.labels == C_b)\n",
    "            #print 'merging',C_a,' ',C_b,'clusters'\n",
    "            self.labels[mask_merge] = C_a     #слили два наиболее близких кластера\n",
    "            valid_labels = valid_labels[valid_labels!=C_b]\n",
    "            self.x_len = self.x_len - 1 \n",
    "        return self\n",
    "    \n",
    "    def predict(self, x):\n",
    "        \"\"\"\n",
    "        Формально процедура кластеризации не подразумевает метода predict, но что поделать:\n",
    "        будем проходить по всем кластерам, полученным из fit и выбирать наиболее подходящий по метрике.\n",
    "        \"\"\"\n",
    "#        min_dist = float('inf') # distance between closest\n",
    "#        for i in xrange(0 ,len(self.x_len)):\n",
    "#            for j in xrange(i+1, self.x_len):\n",
    "#                mask_i = (self.labels == i)\n",
    "#                mask_j = (self.labels == j)\n",
    "#                a = x[mask_i]\n",
    "#                b = x[mask_j]\n",
    "#                dist = metric(a, b) # metric dist. betw. clusters\n",
    "#                if dist < min_dist:\n",
    "#                    min_dist = dist\n",
    "#                    C_a = i     #запомнили номера кластеров, у которых минимальное расстояние\n",
    "#                    C_b = j\n",
    "        return self.labels\n",
    "\n",
    "    def fit_predict(self, x, y=None):\n",
    "        self.fit(x, y)\n",
    "        return self.predict(x)\n",
    "    \n",
    "    #@lru_cache(maxsize=None)   \n",
    "    def _single(self, a, b):\n",
    "        if len(a.shape) != 1:\n",
    "            len_a = len(a)\n",
    "        else:\n",
    "            len_a = 1\n",
    "        if len(b.shape) != 1:\n",
    "            len_b = len(b)\n",
    "        else:\n",
    "            len_b = 1\n",
    "        min_dist = float('inf')\n",
    "        for i in xrange(0, len_a):\n",
    "            for j in xrange(0, len_b):\n",
    "                dist = np.linalg.norm(a[i]-b[j])\n",
    "                if dist < min_dist:\n",
    "                    min_dist = dist\n",
    "        return min_dist\n",
    "    \n",
    "    #@lru_cache(maxsize=None)  \n",
    "    def _complete(self, a, b):\n",
    "        if len(a.shape) != 1:\n",
    "            len_a = len(a)\n",
    "        else:\n",
    "            len_a = 1\n",
    "        if len(b.shape) != 1:\n",
    "            len_b = len(b)\n",
    "        else:\n",
    "            len_b = 1\n",
    "        max_dist = 0\n",
    "        for i in xrange(0, len_a):\n",
    "            for j in xrange(0, len_b):\n",
    "                dist = np.linalg.norm(a[i]-b[j])\n",
    "                if dist > max_dist:\n",
    "                    max_dist = dist\n",
    "        return max_dist\n",
    "    \n",
    "    #@lru_cache(maxsize=None)\n",
    "    def _average(self, a, b):\n",
    "        if len(a.shape) != 1:\n",
    "            len_a = len(a)\n",
    "        else:\n",
    "            len_a = 1\n",
    "        if len(b.shape) != 1:\n",
    "            len_b = len(b)\n",
    "        else:\n",
    "            len_b = 1\n",
    "        average_dist = 0\n",
    "        for i in xrange(0, len_a):\n",
    "            for j in xrange(0, len_b):\n",
    "                average_dist = average_dist + np.linalg.norm(a[i]-b[j]) # summ of dist. betw. dots\n",
    "        return average_dist/(len_a*len_b)"
   ]
  },
  {
   "cell_type": "markdown",
   "metadata": {},
   "source": [
    "## Пересчет расстояний после объединения кластеров\n",
    "\n",
    "* Single linkage\n",
    "$$ d_{min}(C_i, C_j) = \\min_{\\mathbf{x} \\in C_i, \\mathbf{x}' \\in C_j} \\|\\mathbf{x} -\\mathbf{x}' \\| $$\n",
    "\n",
    "* Complete linkage\n",
    "$$ d_{max}(C_i, C_j) = \\max_{\\mathbf{x} \\in C_i, \\mathbf{x}' \\in C_j} \\|\\mathbf{x} -\\mathbf{x}' \\| $$\n",
    "\n",
    "* Average linkage\n",
    "$$ d_{avg}(C_i, C_j) = \\frac{1}{n_i n_j}\\sum_{\\mathbf{x} \\in C_i}\\sum_{\\mathbf{x}' \\in C_j} \\|\\mathbf{x} -\\mathbf{x}' \\| $$\n",
    "\n",
    "* Centroid linkage\n",
    "$$ d_{cent}(C_i, C_j) = \\|\\mu_i -\\mu_j \\| $$\n",
    "\n",
    "* Ward linkage\n",
    "$$ d_{ward}(C_i, C_j) = \\sqrt{\\frac{n_i n_j}{n_i + n_j}} \\|\\mu_i - \\mu_j \\|$$\n"
   ]
  },
  {
   "cell_type": "markdown",
   "metadata": {},
   "source": [
    "Сначала проверим реализованный алгоритм кластеризации на классическом наборе данных [Iris](http://www.wikiwand.com/en/Iris_flower_data_set). Загрузим данные (они включены в библиотеку sklearn) и посмотрим на то, как они выглядят в двух проекциях (для простоты используем 2 класса из 3)."
   ]
  },
  {
   "cell_type": "code",
   "execution_count": 45,
   "metadata": {
    "collapsed": false
   },
   "outputs": [
    {
     "data": {
      "image/png": "[encoded data removed]",
      "text/plain": [
       "<matplotlib.figure.Figure at 0x7fe2b45ea090>"
      ]
     },
     "metadata": {},
     "output_type": "display_data"
    }
   ],
   "source": [
    "iris = ds.load_iris()\n",
    "x_iris = iris.data[:100]\n",
    "y_iris = iris.target[:100]\n",
    "\n",
    "pl.figure(figsize=(10, 5))\n",
    "\n",
    "pl.subplot(1, 2, 1)\n",
    "pl.scatter(x_iris[:, 0], x_iris[:, 1], c=y_iris, cmap=pl.cm.PuOr, lw=0, s=30)\n",
    "plt.xlabel('Sepal length')\n",
    "plt.ylabel('Sepal width')\n",
    "\n",
    "pl.subplot(1, 2, 2)\n",
    "pl.scatter(x_iris[:, 2], x_iris[:, 3], c=y_iris, cmap=pl.cm.PuOr, lw=0, s=30)\n",
    "plt.xlabel('Petal length')\n",
    "plt.ylabel('Petal width')\n",
    "pl.show()"
   ]
  },
  {
   "cell_type": "markdown",
   "metadata": {},
   "source": [
    "Видно, что классы разделяются, поэтому можно надеяться, что наш алгоритм \"найдет\" кластеры, соответствующие исходным классам. Результат работы реализованного алгоритма кластеризации предлагается сравнить с эталонной кластеризацией. Для этого предлагается изучить метрику ([adjusted rand score](http://scikit-learn.org/stable/modules/generated/sklearn.metrics.adjusted_rand_score.html)). В случае если значение этой метрики отличается от 1, предлагается поработать над улучшением реализации своего алгоритма."
   ]
  },
  {
   "cell_type": "code",
   "execution_count": 102,
   "metadata": {
    "collapsed": true
   },
   "outputs": [],
   "source": [
    "iris = ds.load_iris()\n",
    "x_iris = iris.data[:150]\n",
    "y_iris = iris.target[:150]"
   ]
  },
  {
   "cell_type": "code",
   "execution_count": 103,
   "metadata": {
    "collapsed": false
   },
   "outputs": [
    {
     "data": {
      "text/plain": [
       "(150, 4)"
      ]
     },
     "execution_count": 103,
     "metadata": {},
     "output_type": "execute_result"
    }
   ],
   "source": [
    "x_iris.shape"
   ]
  },
  {
   "cell_type": "code",
   "execution_count": 136,
   "metadata": {
    "collapsed": false,
    "scrolled": false
   },
   "outputs": [
    {
     "name": "stdout",
     "output_type": "stream",
     "text": [
      "average-linkage\n"
     ]
    },
    {
     "ename": "TypeError",
     "evalue": "unhashable type: 'numpy.ndarray'",
     "output_type": "error",
     "traceback": [
      "\u001b[0;31m---------------------------------------------------------------------------\u001b[0m",
      "\u001b[0;31mTypeError\u001b[0m                                 Traceback (most recent call last)",
      "\u001b[0;32m<ipython-input-136-85a2ada00040>\u001b[0m in \u001b[0;36m<module>\u001b[0;34m()\u001b[0m\n\u001b[0;32m----> 1\u001b[0;31m \u001b[0mpred_iris\u001b[0m \u001b[0;34m=\u001b[0m \u001b[0mClustering\u001b[0m\u001b[0;34m(\u001b[0m\u001b[0mk\u001b[0m\u001b[0;34m=\u001b[0m\u001b[0;36m2\u001b[0m\u001b[0;34m,\u001b[0m \u001b[0mlinkage\u001b[0m \u001b[0;34m=\u001b[0m \u001b[0;34m'average'\u001b[0m\u001b[0;34m)\u001b[0m\u001b[0;34m.\u001b[0m\u001b[0mfit\u001b[0m\u001b[0;34m(\u001b[0m\u001b[0mx_iris\u001b[0m\u001b[0;34m[\u001b[0m\u001b[0;34m:\u001b[0m\u001b[0;36m100\u001b[0m\u001b[0;34m]\u001b[0m\u001b[0;34m)\u001b[0m \u001b[0;31m#fit_predict\u001b[0m\u001b[0;34m\u001b[0m\u001b[0m\n\u001b[0m\u001b[1;32m      2\u001b[0m \u001b[0;32mprint\u001b[0m \u001b[0;34m\"Adjusted Rand index for iris is: %.2f\"\u001b[0m \u001b[0;34m%\u001b[0m \u001b[0msmt\u001b[0m\u001b[0;34m.\u001b[0m\u001b[0madjusted_rand_score\u001b[0m\u001b[0;34m(\u001b[0m\u001b[0my_iris\u001b[0m\u001b[0;34m,\u001b[0m \u001b[0mpred_iris\u001b[0m\u001b[0;34m.\u001b[0m\u001b[0mlabels\u001b[0m\u001b[0;34m)\u001b[0m\u001b[0;34m\u001b[0m\u001b[0m\n",
      "\u001b[0;32m<ipython-input-135-83f5411adedd>\u001b[0m in \u001b[0;36mfit\u001b[0;34m(self, x, y)\u001b[0m\n\u001b[1;32m     49\u001b[0m                 \u001b[0;32mfor\u001b[0m \u001b[0mj\u001b[0m \u001b[0;32min\u001b[0m \u001b[0mvalid_labels\u001b[0m\u001b[0;34m[\u001b[0m\u001b[0miter\u001b[0m\u001b[0;34m:\u001b[0m\u001b[0;34m]\u001b[0m\u001b[0;34m:\u001b[0m\u001b[0;31m#xrange(i+1, self.x_len):\u001b[0m\u001b[0;34m\u001b[0m\u001b[0m\n\u001b[1;32m     50\u001b[0m                     \u001b[0mb\u001b[0m \u001b[0;34m=\u001b[0m \u001b[0mx\u001b[0m\u001b[0;34m[\u001b[0m\u001b[0;34m(\u001b[0m\u001b[0mself\u001b[0m\u001b[0;34m.\u001b[0m\u001b[0mlabels\u001b[0m \u001b[0;34m==\u001b[0m \u001b[0mj\u001b[0m\u001b[0;34m)\u001b[0m\u001b[0;34m]\u001b[0m\u001b[0;34m\u001b[0m\u001b[0m\n\u001b[0;32m---> 51\u001b[0;31m                     \u001b[0mdist\u001b[0m \u001b[0;34m=\u001b[0m \u001b[0mmetric\u001b[0m\u001b[0;34m(\u001b[0m\u001b[0mhash\u001b[0m\u001b[0;34m(\u001b[0m\u001b[0mtuple\u001b[0m\u001b[0;34m(\u001b[0m\u001b[0ma\u001b[0m\u001b[0;34m)\u001b[0m\u001b[0;34m)\u001b[0m\u001b[0;34m,\u001b[0m\u001b[0mhash\u001b[0m\u001b[0;34m(\u001b[0m\u001b[0mtuple\u001b[0m\u001b[0;34m(\u001b[0m\u001b[0mb\u001b[0m\u001b[0;34m)\u001b[0m\u001b[0;34m)\u001b[0m\u001b[0;34m)\u001b[0m \u001b[0;31m# metric dist. betw. clusters\u001b[0m\u001b[0;34m\u001b[0m\u001b[0m\n\u001b[0m\u001b[1;32m     52\u001b[0m                     \u001b[0;32mif\u001b[0m \u001b[0mdist\u001b[0m \u001b[0;34m<\u001b[0m \u001b[0mmin_dist\u001b[0m\u001b[0;34m:\u001b[0m\u001b[0;34m\u001b[0m\u001b[0m\n\u001b[1;32m     53\u001b[0m                         \u001b[0mmin_dist\u001b[0m \u001b[0;34m=\u001b[0m \u001b[0mdist\u001b[0m\u001b[0;34m\u001b[0m\u001b[0m\n",
      "\u001b[0;31mTypeError\u001b[0m: unhashable type: 'numpy.ndarray'"
     ]
    }
   ],
   "source": [
    "pred_iris = Clustering(k=2, linkage = 'average').fit(x_iris[:100]) #fit_predict\n",
    "print \"Adjusted Rand index for iris is: %.2f\" % smt.adjusted_rand_score(y_iris, pred_iris.labels)"
   ]
  },
  {
   "cell_type": "code",
   "execution_count": 147,
   "metadata": {
    "collapsed": false,
    "scrolled": true
   },
   "outputs": [
    {
     "name": "stdout",
     "output_type": "stream",
     "text": [
      "average-linkage\n",
      "average-linkage\n",
      "average-linkage\n",
      "average-linkage\n",
      "1 loop, best of 3: 2min 34s per loop\n"
     ]
    }
   ],
   "source": [
    "%%timeit\n",
    "pred_iris = Clustering(k=2, linkage = 'average').fit(x[:300]) #fit_predict\n",
    "#print \"Adjusted Rand index for iris is: %.2f\" % smt.adjusted_rand_score(y_iris, pred_iris.labels)"
   ]
  },
  {
   "cell_type": "code",
   "execution_count": 148,
   "metadata": {
    "collapsed": true
   },
   "outputs": [],
   "source": [
    "from scipy.cluster.hierarchy import linkage"
   ]
  },
  {
   "cell_type": "code",
   "execution_count": null,
   "metadata": {
    "collapsed": true
   },
   "outputs": [],
   "source": [
    "from sklearn.cluster import AgglomerativeClustering"
   ]
  },
  {
   "cell_type": "markdown",
   "metadata": {},
   "source": [
    "Оценим скорость работы алгоритма: размечают они одинаково"
   ]
  },
  {
   "cell_type": "code",
   "execution_count": null,
   "metadata": {
    "collapsed": true
   },
   "outputs": [],
   "source": [
    "y_std = AgglomerativeClustering(n_clusters=2, linkage='average').fit_predict(x[:500])\n",
    "y_pred = Clustering(n_clusters=2).fit_predict(x[:500])\n",
    "print \"Adjusted Rand index for iris is: %.2f\" % smt.adjusted_rand_score(y_std, y_pred)"
   ]
  },
  {
   "cell_type": "code",
   "execution_count": 153,
   "metadata": {
    "collapsed": false
   },
   "outputs": [
    {
     "name": "stdout",
     "output_type": "stream",
     "text": [
      "The slowest run took 5.07 times longer than the fastest. This could mean that an intermediate result is being cached.\n",
      "1 loop, best of 3: 832 ms per loop\n"
     ]
    }
   ],
   "source": [
    "%%timeit\n",
    "AgglomerativeClustering(n_clusters=2, linkage='average').fit_predict(x[:500])"
   ]
  },
  {
   "cell_type": "code",
   "execution_count": 108,
   "metadata": {
    "collapsed": false
   },
   "outputs": [
    {
     "data": {
      "text/plain": [
       "array([  0,   0,   0,   0,   0,   0,   0,   0,   0,   0,   0,   0,   0,\n",
       "         0,   0,   0,   0,   0,   0,   0,   0,   0,   0,   0,   0,   0,\n",
       "         0,   0,   0,   0,   0,   0,   0,   0,   0,   0,   0,   0,   0,\n",
       "         0,   0,   0,   0,   0,   0,   0,   0,   0,   0,   0,  50,  50,\n",
       "        50,  50,  50,  50,  50,  50,  50,  50,  50,  50,  50,  50,  50,\n",
       "        50,  50,  50,  50,  50,  50,  50,  50,  50,  50,  50,  50,  50,\n",
       "        50,  50,  50,  50,  50,  50,  50,  50,  50,  50,  50,  50,  50,\n",
       "        50,  50,  50,  50,  50,  50,  50,  50,  50, 100,  50, 100, 100,\n",
       "       100, 100,  50, 100, 100, 100, 100, 100, 100,  50,  50, 100, 100,\n",
       "       100, 100,  50, 100,  50, 100,  50, 100, 100,  50,  50, 100, 100,\n",
       "       100, 100, 100,  50, 100, 100, 100, 100,  50, 100, 100, 100,  50,\n",
       "       100, 100, 100,  50, 100, 100,  50])"
      ]
     },
     "execution_count": 108,
     "metadata": {},
     "output_type": "execute_result"
    }
   ],
   "source": [
    "pred_iris.labels"
   ]
  },
  {
   "cell_type": "markdown",
   "metadata": {},
   "source": [
    "Выбрать и реализовать критерий качества, на основании которого будут подбираться параметры модели. Варианты критериев:\n",
    "- Инерция (сумма квадратов расстояний от каждой из точек до ближайшего к этой точке центроида)\n",
    "- Средний диаметр (максимальное расстояние между точками в кластере) или радиус (расстояние от центроида до самой дальней от него точки в кластере)\n",
    "- Sihouette\n",
    "\n",
    "**Критерий качества необходимо выбрать таким образом, чтобы он подходил для реализованного алгоритма**"
   ]
  },
  {
   "cell_type": "code",
   "execution_count": 145,
   "metadata": {
    "collapsed": false
   },
   "outputs": [],
   "source": [
    "def quality1(x, y):\n",
    "    \"\"\"\n",
    "    Implement quality criterion of your choice\n",
    "    \"\"\"\n",
    "    k = max(y)+1\n",
    "    centroid = np.zeros([k, x.shape[1]])\n",
    "    for i in xrange(k):\n",
    "        ids=np.arange(x.shape[0])[y==i]\n",
    "        centroid[i]=np.sum(x[ids],axis=0)/ids.shape[0]\n",
    "\n",
    "    xdist = np.zeros(len(x))\n",
    "    for i in xrange(len(x)):\n",
    "        cdist = np.zeros(k)\n",
    "        for j in xrange(k):\n",
    "            cdist[j] = np.sum((x[i]-centroid[j])**2)\n",
    "        xdist[i] = cdist.min()\n",
    "        \n",
    "    return xdist.sum()"
   ]
  },
  {
   "cell_type": "code",
   "execution_count": null,
   "metadata": {
    "collapsed": true
   },
   "outputs": [],
   "source": [
    "from sklearn.preprocessing import LabelEncoder\n",
    "from collections import Counter\n",
    "\n",
    "def quality2(X, y):\n",
    "    \"\"\"\n",
    "    Implement quality criterion of your choice\n",
    "    Silhouette\n",
    "    \"\"\"\n",
    "    try:\n",
    "        X = np.array(X)\n",
    "    except:\n",
    "        raise TypeError('Wrong data type')\n",
    "    le = LabelEncoder()\n",
    "    le.fit(y)\n",
    "    y = le.fit_transform(y)\n",
    "    cnt = Counter(y)\n",
    "    n_clusters = len(le.classes_)\n",
    "    sil_samples = np.zeros(len(X))   #силуэты для каждой точки\n",
    "    inner_dist = np.zeros(len(X))   #ср. расстояния от каждой точки до своего кластера\n",
    "    outer_dist_all =  np.full((n_clusters, len(X)), np.inf)   #ср. расстояния от каждой точки до всех остальных кластеров\n",
    "    outer_dist_sample = np.zeros(len(X))   #min расст. от каждой точки до другого кластера\n",
    "    distance_matrix = distance_metrics()[metric](X, X)   #матрица расстояний между всеми точками\n",
    "    for cl in xrange(n_clusters):\n",
    "        mask = (y == cl)\n",
    "        inner_dist[mask] = np.sum(distance_matrix[mask][:,mask], axis=1)\n",
    "        inner_dist[mask] /= cnt[cl]-1  #ср. расстояния от каждой точки до своего кластера\n",
    "              \n",
    "        for cl_out in xrange(n_clusters):\n",
    "            if cl_out != cl:\n",
    "                outer_dist_all[cl_out][mask] = np.mean(distance_matrix[mask][:,y == cl_out], axis=1)\n",
    "                outer_dist_sample[mask] = outer_dist_all[:,mask].min(axis=0)  #ср. расстояния от каждой точки до ближайшего соседнего кластера\n",
    "                \n",
    "    inner_dist[np.argwhere(np.isnan(inner_dist))] = 0\n",
    "    sil_samples = (outer_dist_sample - inner_dist)/np.maximum(outer_dist_sample, inner_dist)\n",
    "    return np.average(sil_samples)"
   ]
  },
  {
   "cell_type": "markdown",
   "metadata": {},
   "source": [
    "Применим критерий для выбора параметров алгоритма. Предлагается изменить следующий код таким образом, чтобы кластеризация вызывалась с верным набором параметров. На графике можно будет увидеть зависимость критерия от параметров алгоритма. Необходимо выбрать оптимальные значения этих параметров."
   ]
  },
  {
   "cell_type": "code",
   "execution_count": null,
   "metadata": {
    "collapsed": true
   },
   "outputs": [],
   "source": [
    "from sklearn.metrics import silhouette_score, silhouette_samples\n",
    "x = data_df[['latitude', 'longitude']].values\n",
    "#x = x[np.random.randint(0,5000,1000)]\n",
    "\n",
    "ks = range(2, 40)\n",
    "criteria = np.zeros(len(ks))\n",
    "\n",
    "for i, k in enumerate(ks):\n",
    "    #cls = Clustering(n_clusters=k)\n",
    "    cls = AgglomerativeClustering(n_clusters=k)\n",
    "    y = cls.fit_predict(x)\n",
    "    criteria[i] = silhouette_score(x, y)\n",
    "    #criteria[i] = quality2(x, y)\n",
    "    #print k\n",
    "    \n",
    "pl.figure(figsize=(8, 6))\n",
    "pl.plot(ks, criteria)\n",
    "pl.title(\"$J(k)$\")\n",
    "pl.ylabel(\"Criteria $J$\")\n",
    "pl.xlabel(\"Number of clusters $k$\")\n",
    "pl.grid()\n",
    "pl.show()"
   ]
  },
  {
   "cell_type": "code",
   "execution_count": 11,
   "metadata": {
    "collapsed": false
   },
   "outputs": [
    {
     "data": {
      "image/png": "[encoded data removed]",
      "text/plain": [
       "<matplotlib.figure.Figure at 0x7f63aafa56d0>"
      ]
     },
     "metadata": {},
     "output_type": "display_data"
    }
   ],
   "source": [
    "ks = range(2, 21)\n",
    "criteria = np.zeros(len(ks))\n",
    "\n",
    "for i, k in enumerate(ks):\n",
    "    #cls = Clustering(k)\n",
    "    cls = AgglomerativeClustering(n_clusters=k)\n",
    "    y = cls.fit_predict(x_normed)\n",
    "    criteria[i] = quality1(x, y)\n",
    "    \n",
    "pl.figure(figsize=(8, 6))\n",
    "pl.plot(ks, criteria)\n",
    "pl.title(\"$J(k)$\")\n",
    "pl.ylabel(\"Criteria $J$\")\n",
    "pl.xlabel(\"Number of clusters $k$\")\n",
    "pl.grid()\n",
    "pl.show()"
   ]
  },
  {
   "cell_type": "markdown",
   "metadata": {},
   "source": [
    "Не отходя от кассы выберем наилучший linkage:"
   ]
  },
  {
   "cell_type": "code",
   "execution_count": null,
   "metadata": {
    "collapsed": true
   },
   "outputs": [],
   "source": [
    "x = data_df[['latitude', 'longitude']].values\n",
    "#x = x[np.random.randint(0,5000,100)]\n",
    "\n",
    "ks = range(2, 40)\n",
    "criteria = np.zeros((3,len(ks)))\n",
    "\n",
    "for i, k in enumerate(ks):\n",
    "    for j, metric in enumerate(['ward', 'complete', 'average']):\n",
    "        #cls = Clustering(n_clusters=k)\n",
    "        cls = AgglomerativeClustering(n_clusters=k, linkage=metric)\n",
    "        y = cls.fit_predict(x)\n",
    "        criteria[j, i] = quality(x, y)\n",
    "    #print k\n",
    "    \n",
    "pl.figure(figsize=(8, 6))\n",
    "pl.plot(ks, criteria[0])\n",
    "pl.plot(ks, criteria[1])\n",
    "pl.plot(ks, criteria[2])\n",
    "pl.title(\"$J(k)$\")\n",
    "pl.ylabel(\"Criteria $J$\")\n",
    "pl.xlabel(\"Number of clusters $k$\")\n",
    "pl.grid()\n",
    "pl.show()"
   ]
  },
  {
   "cell_type": "markdown",
   "metadata": {},
   "source": [
    "Вроде всё хорошо, но на полном наборе ирисов (150 значений) лучше всего работал average-linkage. Кроме того, прочитал в одной из статей про Aggromerative Hierarhical Clustering, что лучше всего работает свё, кроме single-linkage."
   ]
  },
  {
   "cell_type": "markdown",
   "metadata": {},
   "source": [
    "Далее необходимо кластеризовать данные, используя выбранное количество кластеров, и визуализировать результат с помощью T-SNE. Внимание! На полном объеме данных данный алгоритм может работать существенное время. "
   ]
  },
  {
   "cell_type": "markdown",
   "metadata": {},
   "source": [
    "Визуализируем кластеризацию на карте"
   ]
  },
  {
   "cell_type": "code",
   "execution_count": 39,
   "metadata": {
    "collapsed": false
   },
   "outputs": [
    {
     "data": {
      "image/png": "[encoded data removed]",
      "text/plain": [
       "<matplotlib.figure.Figure at 0x7f63aabdf550>"
      ]
     },
     "metadata": {},
     "output_type": "display_data"
    }
   ],
   "source": [
    "pl.figure(figsize=(20,12))\n",
    "\n",
    "m = bm.Basemap(projection='cyl', llcrnrlat=min(x[:, 0]) - 5, urcrnrlat=max(x[:, 0]) + 5, llcrnrlon=min(x[:, 1]) - 5, urcrnrlon=max(x[:, 1]) + 5, resolution='c')\n",
    "\n",
    "m.drawcountries(linewidth=0.2)\n",
    "m.fillcontinents(color='lavender', lake_color='#000040')\n",
    "m.drawmapboundary(linewidth=0.2, fill_color='#000040')\n",
    "m.drawparallels(np.arange(-90,90,30),labels=[0,0,0,0], color='white', linewidth=0.5)\n",
    "m.drawmeridians(np.arange(0,360,30),labels=[0,0,0,0], color='white', linewidth=0.5)\n",
    "\n",
    "m.scatter(x[:, 1], x[:,0], c=y, zorder=10)\n",
    "    \n",
    "pl.show()"
   ]
  },
  {
   "cell_type": "markdown",
   "metadata": {},
   "source": [
    "Визуализируйте интересные участки (может быть это Москва) в приближенном виде. Постройте 3 (или более, в зависимости от данных, что вам самим бы хотелось увидеть ближе) увеличенных изображений карты с кластеризацией."
   ]
  },
  {
   "cell_type": "markdown",
   "metadata": {},
   "source": [
    "Посмотрим на Кубань и Чёрное море (на море хочется)"
   ]
  },
  {
   "cell_type": "code",
   "execution_count": 40,
   "metadata": {
    "collapsed": true
   },
   "outputs": [],
   "source": [
    "pl.figure(figsize=(20,12))\n",
    "\n",
    "cluster = 0\n",
    "x_cl = x[y == cluster]\n",
    "\n",
    "m = bm.Basemap(projection='cyl', llcrnrlat=min(x_cl[:, 0]) - 5, urcrnrlat=max(x_cl[:, 0]) + 5, llcrnrlon=min(x_cl[:, 1]) - 5, urcrnrlon=max(x_cl[:, 1]) + 5, resolution='c')\n",
    "\n",
    "m.drawcountries(linewidth=0.2)\n",
    "m.fillcontinents(color='lavender', lake_color='#000040')\n",
    "m.drawmapboundary(linewidth=0.2, fill_color='#000040')\n",
    "m.drawparallels(np.arange(-90,90,30),labels=[0,0,0,0], color='white', linewidth=0.5)\n",
    "m.drawmeridians(np.arange(0,360,30),labels=[0,0,0,0], color='white', linewidth=0.5)\n",
    "\n",
    "m.scatter(x[:, 1], x[:,0], c = y, zorder=10)\n",
    "    \n",
    "pl.show()"
   ]
  },
  {
   "cell_type": "markdown",
   "metadata": {},
   "source": [
    "Отлично видно Ростов-на-Дону, Ставрополь, Сочи. Шэйпфайлы для этой части России не стал качать, только для Москвы."
   ]
  },
  {
   "cell_type": "markdown",
   "metadata": {},
   "source": [
    "Москва и МО издалека:"
   ]
  },
  {
   "cell_type": "code",
   "execution_count": null,
   "metadata": {
    "collapsed": true
   },
   "outputs": [],
   "source": [
    "pl.figure(figsize=(20,12))\n",
    "\n",
    "cluster = 4\n",
    "x_cl = x[y == cluster]\n",
    "\n",
    "m = bm.Basemap(projection='cyl', llcrnrlat=min(x_cl[:, 0]) - 5, urcrnrlat=max(x_cl[:, 0]) + 5, llcrnrlon=min(x_cl[:, 1]) - 5, urcrnrlon=max(x_cl[:, 1]) + 5, resolution='c')\n",
    "\n",
    "m.drawcountries(linewidth=0.2)\n",
    "m.fillcontinents(color='lavender', lake_color='#000040')\n",
    "m.drawmapboundary(linewidth=0.2, fill_color='#000040')\n",
    "m.drawparallels(np.arange(-90,90,30),labels=[0,0,0,0], color='white', linewidth=0.5)\n",
    "m.drawmeridians(np.arange(0,360,30),labels=[0,0,0,0], color='white', linewidth=0.5)\n",
    "m.drawrivers(color='#0000ff')\n",
    "\n",
    "m.scatter(x[:, 1], x[:,0], c = y, zorder=10)\n",
    "    \n",
    "pl.show()"
   ]
  },
  {
   "cell_type": "markdown",
   "metadata": {},
   "source": [
    "Кроме Москвы видно областные центры навроде Тулы, Нижнего Новгорода, Рязани"
   ]
  },
  {
   "cell_type": "markdown",
   "metadata": {},
   "source": [
    "Для кластеризации в Москве нужно подобрать количество кластеров (выборка ведь изменилась):"
   ]
  },
  {
   "cell_type": "code",
   "execution_count": null,
   "metadata": {
    "collapsed": true
   },
   "outputs": [],
   "source": [
    "from sklearn.metrics import silhouette_score, silhouette_samples\n",
    "x = data_df[['latitude', 'longitude']].values\n",
    "x_msk = x[y == 1]\n",
    "\n",
    "ks = range(2, 40)\n",
    "criteria = np.zeros(len(ks))\n",
    "\n",
    "for i, k in enumerate(ks):\n",
    "    #cls = Clustering(n_clusters=k)\n",
    "    cls = AgglomerativeClustering(n_clusters=k, linkage='average')\n",
    "    y_msk = cls.fit_predict(x_msk)\n",
    "    criteria[i] = silhouette_score(x_msk, y_msk)\n",
    "    #criteria[i] = quality(x_msk, y_msk)\n",
    "    #print k\n",
    "    \n",
    "pl.figure(figsize=(8, 6))\n",
    "pl.plot(ks, criteria)\n",
    "pl.title(\"$J(k)$\")\n",
    "pl.ylabel(\"Criteria $J$\")\n",
    "pl.xlabel(\"Number of clusters $k$\")\n",
    "pl.grid()\n",
    "pl.show()"
   ]
  },
  {
   "cell_type": "markdown",
   "metadata": {},
   "source": [
    "Видим три подкластера: Москву, Тулу и Орехово-Зуево"
   ]
  },
  {
   "cell_type": "code",
   "execution_count": null,
   "metadata": {
    "collapsed": true
   },
   "outputs": [],
   "source": [
    "pl.figure(figsize=(20,12))\n",
    "\n",
    "m = bm.Basemap(projection='cyl', llcrnrlat=min(x_msk[:, 0]) - 1, urcrnrlat=max(x_msk[:, 0]) + 1, llcrnrlon=min(x_msk[:, 1]) - 1, urcrnrlon=max(x_msk[:, 1]) + 1, resolution='c')\n",
    "\n",
    "y_msk = AgglomerativeClustering(n_clusters=3, linkage='average').fit_predict(x_msk)\n",
    "\n",
    "m.drawcountries(linewidth=0.2)\n",
    "m.fillcontinents(color='lavender', lake_color='#000040')\n",
    "m.drawmapboundary(linewidth=0.2, fill_color='#000040')\n",
    "m.drawparallels(np.arange(-90,90,30),labels=[0,0,0,0], color='white', linewidth=0.5)\n",
    "m.drawmeridians(np.arange(0,360,30),labels=[0,0,0,0], color='white', linewidth=0.5)\n",
    "m.drawrivers(color='#0000ff')\n",
    "\n",
    "m.scatter(x_msk[:, 1], x_msk[:,0], c=y_msk, zorder=10)\n",
    "    \n",
    "pl.show()"
   ]
  },
  {
   "cell_type": "code",
   "execution_count": null,
   "metadata": {
    "collapsed": true
   },
   "outputs": [],
   "source": []
  },
  {
   "cell_type": "markdown",
   "metadata": {},
   "source": [
    "Какой вывод можно сделать о качестве кластеризации?"
   ]
  },
  {
   "cell_type": "markdown",
   "metadata": {},
   "source": [
    "Поздравляем, Вы завершили домашние задания по модулю \"Алгоритмы кластеризации\". Надеемся, что это было интересно."
   ]
  }
 ],
 "metadata": {
  "kernelspec": {
   "display_name": "Python 2",
   "language": "python",
   "name": "python2"
  },
  "language_info": {
   "codemirror_mode": {
    "name": "ipython",
    "version": 2
   },
   "file_extension": ".py",
   "mimetype": "text/x-python",
   "name": "python",
   "nbconvert_exporter": "python",
   "pygments_lexer": "ipython2",
   "version": "2.7.13"
  }
 },
 "nbformat": 4,
 "nbformat_minor": 0
}
